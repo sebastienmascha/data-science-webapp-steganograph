{
 "cells": [
  {
   "cell_type": "markdown",
   "id": "2dd8ee76-4ea8-4ec7-8771-11d143af3352",
   "metadata": {},
   "source": [
    "<center><h1>Python for Data Analysis and Scientific Computing</h1></center>\n",
    "<center><h2>Final Project</h2></center>\n",
    "<center> By Sebastien Mascha and Thomas Le Couédic </center>\n",
    "<center><i> s.mascha@berkeley.edu | tlc10@berkeley.edy </i></center>"
   ]
  },
  {
   "cell_type": "code",
   "execution_count": 1,
   "id": "3f3832a4-0682-4f11-8f00-21a95514910d",
   "metadata": {},
   "outputs": [],
   "source": [
    "__version__ = \"1.0\"\n",
    "__author__ = \"Sebastien Mascha, Thomas Le Couedic\"\n",
    "__email__ = \"s.mascha@berkeley.edu, tlc10@berkeley.edu\""
   ]
  },
  {
   "cell_type": "code",
   "execution_count": 2,
   "id": "56e3a55b-5b62-4300-9873-e8c081853d2c",
   "metadata": {},
   "outputs": [
    {
     "name": "stdout",
     "output_type": "stream",
     "text": [
      "Python and compiler version:\n",
      "3.8.1 (default, Feb  2 2020, 08:49:34) \n",
      "[GCC 8.3.0]\n",
      "\n",
      "OpenCV version: 4.5.1\n",
      "TensorFlow version: 2.4.1\n"
     ]
    }
   ],
   "source": [
    "import statistics\n",
    "import sys\n",
    "print(\"Python and compiler version:\")\n",
    "print(sys.version)\n",
    "\n",
    "# Provides n-dimensional array object\n",
    "import numpy as np\n",
    "# Data analysis and manipulation tool\n",
    "import pandas as pd\n",
    "# Fundamental package for scientific computing\n",
    "import scipy\n",
    "\n",
    "# Plotting library\n",
    "%matplotlib inline\n",
    "import matplotlib as mpl\n",
    "# State-based interface to matplotlib\n",
    "import matplotlib.pyplot as plt\n",
    "\n",
    "# Data Mining and Machine Learning\n",
    "# from sklearn import datasets\n",
    "import cv2\n",
    "print(\"\\nOpenCV version: \" + cv2.__version__)\n",
    "import tensorflow as tf\n",
    "print(\"TensorFlow version: \" + tf.__version__)"
   ]
  },
  {
   "cell_type": "code",
   "execution_count": 6,
   "id": "36c83279-9caf-4e57-9bdb-8da5e05b2c95",
   "metadata": {},
   "outputs": [
    {
     "name": "stdout",
     "output_type": "stream",
     "text": [
      "Processing /app/packages/steganography_tools/dist/steganography_tools-0.1.0-py3-none-any.whl\n",
      "steganography-tools is already installed with the same version as the provided wheel. Use --force-reinstall to force an installation of the wheel.\n"
     ]
    }
   ],
   "source": [
    "# Install local packages\n",
    "# imagerie_pkg: image processing tool\n",
    "! pip install /app/packages/steganography_tools/dist/steganography_tools-0.1.0-py3-none-any.whl\n",
    "# steganography_tools: steganography tools\n",
    "\n",
    "from steganography_tools import LSBSteganography\n",
    "# >>> secret = lsb.hide(\"./tests/sample-files/Lenna.png\", \"Hello World\")\n",
    "# >>> secret.save(\"./Lenna-secret.png\")\n",
    "# >>> clear_message = lsb.reveal(\"./Lenna-secret.png\")"
   ]
  },
  {
   "cell_type": "code",
   "execution_count": 8,
   "id": "de82bffe-9da6-4ed7-b8f6-6e606ec7b72d",
   "metadata": {},
   "outputs": [],
   "source": [
    "secret = LSBSteganography.hide(\"photo.png\", \"Hello World\")\n",
    "secret.save(\"./photo-secret.png\")"
   ]
  },
  {
   "cell_type": "code",
   "execution_count": 11,
   "id": "73226fee-a2db-4c3a-afbc-e7bacc78d293",
   "metadata": {},
   "outputs": [
    {
     "name": "stdout",
     "output_type": "stream",
     "text": [
      "Hello World\n"
     ]
    }
   ],
   "source": [
    "clear_message = LSBSteganography.reveal(\"./photo-secret.png\")\n",
    "print(clear_message)"
   ]
  },
  {
   "cell_type": "code",
   "execution_count": 3,
   "id": "fe8b802a-d1cf-4a16-9993-bc9db9c1004f",
   "metadata": {},
   "outputs": [
    {
     "name": "stdout",
     "output_type": "stream",
     "text": [
      "Collecting bitarray\n",
      "  Downloading bitarray-1.9.2.tar.gz (69 kB)\n",
      "\u001b[K     |████████████████████████████████| 69 kB 13.8 MB/s eta 0:00:01\n",
      "\u001b[?25hBuilding wheels for collected packages: bitarray\n",
      "  Building wheel for bitarray (setup.py) ... \u001b[?25lerror\n",
      "\u001b[31m  ERROR: Command errored out with exit status 1:\n",
      "   command: /app/.venv/bin/python -u -c 'import sys, setuptools, tokenize; sys.argv[0] = '\"'\"'/tmp/pip-install-frb96zqt/bitarray_e7d24a9fcf0548dcb552458950711027/setup.py'\"'\"'; __file__='\"'\"'/tmp/pip-install-frb96zqt/bitarray_e7d24a9fcf0548dcb552458950711027/setup.py'\"'\"';f=getattr(tokenize, '\"'\"'open'\"'\"', open)(__file__);code=f.read().replace('\"'\"'\\r\\n'\"'\"', '\"'\"'\\n'\"'\"');f.close();exec(compile(code, __file__, '\"'\"'exec'\"'\"'))' bdist_wheel -d /tmp/pip-wheel-w9lo_966\n",
      "       cwd: /tmp/pip-install-frb96zqt/bitarray_e7d24a9fcf0548dcb552458950711027/\n",
      "  Complete output (22 lines):\n",
      "  running bdist_wheel\n",
      "  running build\n",
      "  running build_py\n",
      "  creating build\n",
      "  creating build/lib.linux-x86_64-3.8\n",
      "  creating build/lib.linux-x86_64-3.8/bitarray\n",
      "  copying bitarray/test_bitarray.py -> build/lib.linux-x86_64-3.8/bitarray\n",
      "  copying bitarray/__init__.py -> build/lib.linux-x86_64-3.8/bitarray\n",
      "  copying bitarray/test_util.py -> build/lib.linux-x86_64-3.8/bitarray\n",
      "  copying bitarray/util.py -> build/lib.linux-x86_64-3.8/bitarray\n",
      "  copying bitarray/bitarray.h -> build/lib.linux-x86_64-3.8/bitarray\n",
      "  copying bitarray/pythoncapi_compat.h -> build/lib.linux-x86_64-3.8/bitarray\n",
      "  copying bitarray/test_data.pickle -> build/lib.linux-x86_64-3.8/bitarray\n",
      "  warning: build_py: byte-compiling is disabled, skipping.\n",
      "  \n",
      "  running build_ext\n",
      "  building 'bitarray._bitarray' extension\n",
      "  creating build/temp.linux-x86_64-3.8\n",
      "  creating build/temp.linux-x86_64-3.8/bitarray\n",
      "  gcc -pthread -Wno-unused-result -Wsign-compare -DNDEBUG -g -fwrapv -O3 -Wall -fPIC -I/app/.venv/include -I/usr/local/include/python3.8 -c bitarray/_bitarray.c -o build/temp.linux-x86_64-3.8/bitarray/_bitarray.o\n",
      "  unable to execute 'gcc': No such file or directory\n",
      "  error: command 'gcc' failed with exit status 1\n",
      "  ----------------------------------------\u001b[0m\n",
      "\u001b[31m  ERROR: Failed building wheel for bitarray\u001b[0m\n",
      "\u001b[?25h  Running setup.py clean for bitarray\n",
      "Failed to build bitarray\n",
      "Installing collected packages: bitarray\n",
      "    Running setup.py install for bitarray ... \u001b[?25lerror\n",
      "\u001b[31m    ERROR: Command errored out with exit status 1:\n",
      "     command: /app/.venv/bin/python -u -c 'import sys, setuptools, tokenize; sys.argv[0] = '\"'\"'/tmp/pip-install-frb96zqt/bitarray_e7d24a9fcf0548dcb552458950711027/setup.py'\"'\"'; __file__='\"'\"'/tmp/pip-install-frb96zqt/bitarray_e7d24a9fcf0548dcb552458950711027/setup.py'\"'\"';f=getattr(tokenize, '\"'\"'open'\"'\"', open)(__file__);code=f.read().replace('\"'\"'\\r\\n'\"'\"', '\"'\"'\\n'\"'\"');f.close();exec(compile(code, __file__, '\"'\"'exec'\"'\"'))' install --record /tmp/pip-record-ge7dndnp/install-record.txt --single-version-externally-managed --compile --install-headers /app/.venv/include/site/python3.8/bitarray\n",
      "         cwd: /tmp/pip-install-frb96zqt/bitarray_e7d24a9fcf0548dcb552458950711027/\n",
      "    Complete output (22 lines):\n",
      "    running install\n",
      "    running build\n",
      "    running build_py\n",
      "    creating build\n",
      "    creating build/lib.linux-x86_64-3.8\n",
      "    creating build/lib.linux-x86_64-3.8/bitarray\n",
      "    copying bitarray/test_bitarray.py -> build/lib.linux-x86_64-3.8/bitarray\n",
      "    copying bitarray/__init__.py -> build/lib.linux-x86_64-3.8/bitarray\n",
      "    copying bitarray/test_util.py -> build/lib.linux-x86_64-3.8/bitarray\n",
      "    copying bitarray/util.py -> build/lib.linux-x86_64-3.8/bitarray\n",
      "    copying bitarray/bitarray.h -> build/lib.linux-x86_64-3.8/bitarray\n",
      "    copying bitarray/pythoncapi_compat.h -> build/lib.linux-x86_64-3.8/bitarray\n",
      "    copying bitarray/test_data.pickle -> build/lib.linux-x86_64-3.8/bitarray\n",
      "    warning: build_py: byte-compiling is disabled, skipping.\n",
      "    \n",
      "    running build_ext\n",
      "    building 'bitarray._bitarray' extension\n",
      "    creating build/temp.linux-x86_64-3.8\n",
      "    creating build/temp.linux-x86_64-3.8/bitarray\n",
      "    gcc -pthread -Wno-unused-result -Wsign-compare -DNDEBUG -g -fwrapv -O3 -Wall -fPIC -I/app/.venv/include -I/usr/local/include/python3.8 -c bitarray/_bitarray.c -o build/temp.linux-x86_64-3.8/bitarray/_bitarray.o\n",
      "    unable to execute 'gcc': No such file or directory\n",
      "    error: command 'gcc' failed with exit status 1\n",
      "    ----------------------------------------\u001b[0m\n",
      "\u001b[?25h\u001b[31mERROR: Command errored out with exit status 1: /app/.venv/bin/python -u -c 'import sys, setuptools, tokenize; sys.argv[0] = '\"'\"'/tmp/pip-install-frb96zqt/bitarray_e7d24a9fcf0548dcb552458950711027/setup.py'\"'\"'; __file__='\"'\"'/tmp/pip-install-frb96zqt/bitarray_e7d24a9fcf0548dcb552458950711027/setup.py'\"'\"';f=getattr(tokenize, '\"'\"'open'\"'\"', open)(__file__);code=f.read().replace('\"'\"'\\r\\n'\"'\"', '\"'\"'\\n'\"'\"');f.close();exec(compile(code, __file__, '\"'\"'exec'\"'\"'))' install --record /tmp/pip-record-ge7dndnp/install-record.txt --single-version-externally-managed --compile --install-headers /app/.venv/include/site/python3.8/bitarray Check the logs for full command output.\u001b[0m\n"
     ]
    }
   ],
   "source": [
    "! pip install bitarray"
   ]
  },
  {
   "cell_type": "code",
   "execution_count": 2,
   "id": "c420f203-6a64-4559-8021-558195974fb3",
   "metadata": {},
   "outputs": [
    {
     "ename": "ModuleNotFoundError",
     "evalue": "No module named 'bitarray'",
     "output_type": "error",
     "traceback": [
      "\u001b[0;31m---------------------------------------------------------------------------\u001b[0m",
      "\u001b[0;31mModuleNotFoundError\u001b[0m                       Traceback (most recent call last)",
      "\u001b[0;32m<ipython-input-2-d6f4af5a6251>\u001b[0m in \u001b[0;36m<module>\u001b[0;34m\u001b[0m\n\u001b[1;32m      3\u001b[0m \u001b[0;31m# from skimage.transform import rescale\u001b[0m\u001b[0;34m\u001b[0m\u001b[0;34m\u001b[0m\u001b[0;34m\u001b[0m\u001b[0m\n\u001b[1;32m      4\u001b[0m \u001b[0;31m# import skimage\u001b[0m\u001b[0;34m\u001b[0m\u001b[0;34m\u001b[0m\u001b[0;34m\u001b[0m\u001b[0m\n\u001b[0;32m----> 5\u001b[0;31m \u001b[0;32mimport\u001b[0m \u001b[0mbitarray\u001b[0m\u001b[0;34m\u001b[0m\u001b[0;34m\u001b[0m\u001b[0m\n\u001b[0m\u001b[1;32m      6\u001b[0m \u001b[0;32mimport\u001b[0m \u001b[0mmath\u001b[0m\u001b[0;34m\u001b[0m\u001b[0;34m\u001b[0m\u001b[0m\n\u001b[1;32m      7\u001b[0m \u001b[0;32mimport\u001b[0m \u001b[0mcv2\u001b[0m\u001b[0;34m\u001b[0m\u001b[0;34m\u001b[0m\u001b[0m\n",
      "\u001b[0;31mModuleNotFoundError\u001b[0m: No module named 'bitarray'"
     ]
    }
   ],
   "source": [
    "import numpy as np\n",
    "import pandas as pd\n",
    "# from skimage.transform import rescale\n",
    "# import skimage\n",
    "import bitarray\n",
    "import math\n",
    "import cv2\n",
    "import random\n",
    "from scipy import fftpack\n",
    "\n",
    "class lsb:\n",
    "\t\"\"\"\n",
    "\tSteganographic tools based on least significant bit (lsb).\n",
    "\t\"\"\"\n",
    "\n",
    "\tdef __messageToBits(message):\n",
    "\t\ttag = \"{:<10}\".format(str(len(message)*8))\n",
    "\t\tmessage = tag+message\n",
    "\t\tcode = bitarray.bitarray()\n",
    "\t\tcode.frombytes(message.encode('utf-8'))\n",
    "\t\tcode = \"\".join(['1' if x == True else '0' for x in code.tolist()])\n",
    "\t\treturn code\n",
    "\n",
    "\tdef __hideMessage(img, message):\n",
    "\t\tshape = img.shape\n",
    "\t\timg = img.flatten()\n",
    "\t\tcode = list(message)\n",
    "\t\tcode_len = len(code)\n",
    "\t\tfor i,x in enumerate(img):\n",
    "\t\t\tif i*2 <code_len:\n",
    "\t\t\t\tzbits = list('{0:08b}'.format(x))[:6]+code[i*2:i*2+2]\n",
    "\t\t\t\timg[i] = int(\"\".join(zbits), 2)\n",
    "\t\t\telse:\n",
    "\t\t\t\treturn img.reshape(shape)\n",
    "\t\treturn img.reshape(shape)\n",
    "\n",
    "\tdef encode(cover_image, secret_message):\n",
    "\t\t\"\"\"\n",
    "\t\tStores a secret_message (string) into a cover_image (image) using lsb steganography.\n",
    "\t\t\"\"\"\n",
    "\n",
    "\t\timage_height  = cover_image.shape[0]\n",
    "\t\timage_width   = cover_image.shape[1]\n",
    "\t\timage_chanels = cover_image.shape[2]\n",
    "\n",
    "\t\timage_size_bytes = image_height * image_width * image_chanels\n",
    "\t\timage_size_bits  = image_size_bytes * 8\n",
    "\t\timage_size_kbytes = image_size_bytes / 1024\n",
    "\n",
    "\t\thide_size_bits  = image_size_bytes * 2\n",
    "\t\thide_size_kbytes = (hide_size_bits / 8) / 1024\n",
    "\n",
    "\t\tmessage_size_kbytes = len(secret_message)/8000\n",
    "\n",
    "\t\tif message_size_kbytes > hide_size_kbytes:\n",
    "\t\t\traise Exception('Message too big!')\n",
    "\t\t\n",
    "\t\tsecret_message_bits = lsb.__messageToBits(secret_message)\n",
    "\n",
    "\t\timage_with_message = lsb.__hideMessage(cover_image, secret_message_bits)\n",
    "\n",
    "\t\treturn image_with_message\n",
    "\n",
    "\tdef decode(image):\n",
    "\t\t\"\"\"\n",
    "\t\tRetrives a secret_message (string) from an image (image) using lsb steganography.\n",
    "\t\t\"\"\"\n",
    "\n",
    "\t\tbit_message = \"\"\n",
    "\t\tbit_count = 0\n",
    "\t\tbit_length = 200\n",
    "\t\tfor i,x in enumerate(image):\n",
    "\t\t\tfor j,y in enumerate(x):\n",
    "\t\t\t\tfor k,z in enumerate(y):\n",
    "\t\t\t\t\tzbits = '{0:08b}'.format(z)\n",
    "\t\t\t\t\tbit_message += zbits[-2:]\n",
    "\t\t\t\t\tbit_count += 2\n",
    "\t\t\t\t\tif bit_count == 80:\n",
    "\t\t\t\t\t\ttry:\n",
    "\t\t\t\t\t\t\tdecoded_tag = bitarray.bitarray(bit_message).tobytes().decode('utf-8')\n",
    "\t\t\t\t\t\t\tbit_length = int(decoded_tag)+80\n",
    "\t\t\t\t\t\t\tbit_message = \"\"\n",
    "\t\t\t\t\t\texcept:\n",
    "\t\t\t\t\t\t\traise Exception(\"Can't decode secret on this image!\")\n",
    "\t\t\t\t\telif bit_count >= bit_length:\n",
    "\t\t\t\t\t\treturn bitarray.bitarray(bit_message).tobytes().decode('utf-8')\n",
    "                    \n",
    "help(lsb)"
   ]
  },
  {
   "cell_type": "code",
   "execution_count": 18,
   "id": "3b8dfce2-9643-4f88-a7dd-2b387043cdd4",
   "metadata": {},
   "outputs": [
    {
     "ename": "NameError",
     "evalue": "name 'bitarray' is not defined",
     "output_type": "error",
     "traceback": [
      "\u001b[0;31m---------------------------------------------------------------------------\u001b[0m",
      "\u001b[0;31mNameError\u001b[0m                                 Traceback (most recent call last)",
      "\u001b[0;32m<ipython-input-18-7e69748b8d61>\u001b[0m in \u001b[0;36m<module>\u001b[0;34m\u001b[0m\n\u001b[1;32m      1\u001b[0m \u001b[0mimage\u001b[0m \u001b[0;34m=\u001b[0m \u001b[0mplt\u001b[0m\u001b[0;34m.\u001b[0m\u001b[0mimread\u001b[0m\u001b[0;34m(\u001b[0m\u001b[0;34m\"photo.png\"\u001b[0m\u001b[0;34m)\u001b[0m\u001b[0;34m\u001b[0m\u001b[0;34m\u001b[0m\u001b[0m\n\u001b[0;32m----> 2\u001b[0;31m \u001b[0mlsb\u001b[0m\u001b[0;34m.\u001b[0m\u001b[0mencode\u001b[0m\u001b[0;34m(\u001b[0m\u001b[0mimage\u001b[0m\u001b[0;34m,\u001b[0m \u001b[0;34m\"hello\"\u001b[0m\u001b[0;34m)\u001b[0m\u001b[0;34m\u001b[0m\u001b[0;34m\u001b[0m\u001b[0m\n\u001b[0m",
      "\u001b[0;32m<ipython-input-16-d27441cfa258>\u001b[0m in \u001b[0;36mencode\u001b[0;34m(cover_image, secret_message)\u001b[0m\n\u001b[1;32m     56\u001b[0m                         \u001b[0;32mraise\u001b[0m \u001b[0mException\u001b[0m\u001b[0;34m(\u001b[0m\u001b[0;34m'Message too big!'\u001b[0m\u001b[0;34m)\u001b[0m\u001b[0;34m\u001b[0m\u001b[0;34m\u001b[0m\u001b[0m\n\u001b[1;32m     57\u001b[0m \u001b[0;34m\u001b[0m\u001b[0m\n\u001b[0;32m---> 58\u001b[0;31m                 \u001b[0msecret_message_bits\u001b[0m \u001b[0;34m=\u001b[0m \u001b[0mlsb\u001b[0m\u001b[0;34m.\u001b[0m\u001b[0m__messageToBits\u001b[0m\u001b[0;34m(\u001b[0m\u001b[0msecret_message\u001b[0m\u001b[0;34m)\u001b[0m\u001b[0;34m\u001b[0m\u001b[0;34m\u001b[0m\u001b[0m\n\u001b[0m\u001b[1;32m     59\u001b[0m \u001b[0;34m\u001b[0m\u001b[0m\n\u001b[1;32m     60\u001b[0m                 \u001b[0mimage_with_message\u001b[0m \u001b[0;34m=\u001b[0m \u001b[0mlsb\u001b[0m\u001b[0;34m.\u001b[0m\u001b[0m__hideMessage\u001b[0m\u001b[0;34m(\u001b[0m\u001b[0mcover_image\u001b[0m\u001b[0;34m,\u001b[0m \u001b[0msecret_message_bits\u001b[0m\u001b[0;34m)\u001b[0m\u001b[0;34m\u001b[0m\u001b[0;34m\u001b[0m\u001b[0m\n",
      "\u001b[0;32m<ipython-input-16-d27441cfa258>\u001b[0m in \u001b[0;36m__messageToBits\u001b[0;34m(message)\u001b[0m\n\u001b[1;32m     17\u001b[0m                 \u001b[0mtag\u001b[0m \u001b[0;34m=\u001b[0m \u001b[0;34m\"{:<10}\"\u001b[0m\u001b[0;34m.\u001b[0m\u001b[0mformat\u001b[0m\u001b[0;34m(\u001b[0m\u001b[0mstr\u001b[0m\u001b[0;34m(\u001b[0m\u001b[0mlen\u001b[0m\u001b[0;34m(\u001b[0m\u001b[0mmessage\u001b[0m\u001b[0;34m)\u001b[0m\u001b[0;34m*\u001b[0m\u001b[0;36m8\u001b[0m\u001b[0;34m)\u001b[0m\u001b[0;34m)\u001b[0m\u001b[0;34m\u001b[0m\u001b[0;34m\u001b[0m\u001b[0m\n\u001b[1;32m     18\u001b[0m                 \u001b[0mmessage\u001b[0m \u001b[0;34m=\u001b[0m \u001b[0mtag\u001b[0m\u001b[0;34m+\u001b[0m\u001b[0mmessage\u001b[0m\u001b[0;34m\u001b[0m\u001b[0;34m\u001b[0m\u001b[0m\n\u001b[0;32m---> 19\u001b[0;31m                 \u001b[0mcode\u001b[0m \u001b[0;34m=\u001b[0m \u001b[0mbitarray\u001b[0m\u001b[0;34m.\u001b[0m\u001b[0mbitarray\u001b[0m\u001b[0;34m(\u001b[0m\u001b[0;34m)\u001b[0m\u001b[0;34m\u001b[0m\u001b[0;34m\u001b[0m\u001b[0m\n\u001b[0m\u001b[1;32m     20\u001b[0m                 \u001b[0mcode\u001b[0m\u001b[0;34m.\u001b[0m\u001b[0mfrombytes\u001b[0m\u001b[0;34m(\u001b[0m\u001b[0mmessage\u001b[0m\u001b[0;34m.\u001b[0m\u001b[0mencode\u001b[0m\u001b[0;34m(\u001b[0m\u001b[0;34m'utf-8'\u001b[0m\u001b[0;34m)\u001b[0m\u001b[0;34m)\u001b[0m\u001b[0;34m\u001b[0m\u001b[0;34m\u001b[0m\u001b[0m\n\u001b[1;32m     21\u001b[0m                 \u001b[0mcode\u001b[0m \u001b[0;34m=\u001b[0m \u001b[0;34m\"\"\u001b[0m\u001b[0;34m.\u001b[0m\u001b[0mjoin\u001b[0m\u001b[0;34m(\u001b[0m\u001b[0;34m[\u001b[0m\u001b[0;34m'1'\u001b[0m \u001b[0;32mif\u001b[0m \u001b[0mx\u001b[0m \u001b[0;34m==\u001b[0m \u001b[0;32mTrue\u001b[0m \u001b[0;32melse\u001b[0m \u001b[0;34m'0'\u001b[0m \u001b[0;32mfor\u001b[0m \u001b[0mx\u001b[0m \u001b[0;32min\u001b[0m \u001b[0mcode\u001b[0m\u001b[0;34m.\u001b[0m\u001b[0mtolist\u001b[0m\u001b[0;34m(\u001b[0m\u001b[0;34m)\u001b[0m\u001b[0;34m]\u001b[0m\u001b[0;34m)\u001b[0m\u001b[0;34m\u001b[0m\u001b[0;34m\u001b[0m\u001b[0m\n",
      "\u001b[0;31mNameError\u001b[0m: name 'bitarray' is not defined"
     ]
    }
   ],
   "source": [
    "image = plt.imread(\"photo.png\")\n",
    "lsb.encode(image, \"hello\")"
   ]
  },
  {
   "cell_type": "code",
   "execution_count": null,
   "id": "66c468c2-9080-4aa6-8464-83f34f7bed30",
   "metadata": {},
   "outputs": [],
   "source": []
  }
 ],
 "metadata": {
  "kernelspec": {
   "display_name": "Python 3",
   "language": "python",
   "name": "python3"
  },
  "language_info": {
   "codemirror_mode": {
    "name": "ipython",
    "version": 3
   },
   "file_extension": ".py",
   "mimetype": "text/x-python",
   "name": "python",
   "nbconvert_exporter": "python",
   "pygments_lexer": "ipython3",
   "version": "3.8.1"
  }
 },
 "nbformat": 4,
 "nbformat_minor": 5
}
